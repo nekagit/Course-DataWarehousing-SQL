{
 "cells": [
  {
   "cell_type": "markdown",
   "metadata": {},
   "source": [
    "# Welcome to Introduction to Tableau lecture\n",
    "\n",
    "---\n",
    "---\n"
   ]
  },
  {
   "cell_type": "markdown",
   "metadata": {},
   "source": [
    "### Task for today\n",
    "\n",
    "Follow the Presentation, ask and its given, try your best!\n",
    "\n"
   ]
  },
  {
   "cell_type": "markdown",
   "metadata": {},
   "source": [
    "### Skills for today\n",
    "\n",
    "- Be able to set up Tableau \n",
    "- Become acquainted with Tableau interface\n",
    "- Import data to tableau\n",
    "- Create first simple visualizations in Tableau and put them into the dashboard "
   ]
  },
  {
   "cell_type": "markdown",
   "metadata": {},
   "source": [
    "---\n",
    "---"
   ]
  },
  {
   "cell_type": "markdown",
   "metadata": {},
   "source": [
    "## Table of Contents\n"
   ]
  },
  {
   "cell_type": "markdown",
   "metadata": {},
   "source": [
    "### Introduction to tableau  (9.00 – 10.00 am)\n",
    "\n",
    "- What is Tableau, what are versions and possibilities\n",
    "- Navigation through Tableau \n",
    "- Importing of the data \n",
    "- Filtering \n",
    "\n",
    "### Helpful Links\n",
    "\n",
    "### CheatSheets"
   ]
  },
  {
   "cell_type": "markdown",
   "metadata": {},
   "source": [
    "### Creating first visualizations (10.15 – 10.45 am)\n",
    "\n",
    "- Aggregating\n",
    "- ACalculated fields\n",
    "- AFunctions\n",
    "- AMapping \n",
    "- ADates\n",
    "- ADashboards"
   ]
  },
  {
   "cell_type": "markdown",
   "metadata": {},
   "source": [
    "### Application  (11.00 – 12.30 am)\n"
   ]
  },
  {
   "cell_type": "markdown",
   "metadata": {},
   "source": [
    "---\n",
    "---"
   ]
  },
  {
   "cell_type": "markdown",
   "metadata": {},
   "source": [
    "# Information regarding upper Tasks\n"
   ]
  }
 ],
 "metadata": {
  "kernelspec": {
   "display_name": "Python 3",
   "language": "python",
   "name": "python3"
  },
  "language_info": {
   "codemirror_mode": {
    "name": "ipython",
    "version": 3
   },
   "file_extension": ".py",
   "mimetype": "text/x-python",
   "name": "python",
   "nbconvert_exporter": "python",
   "pygments_lexer": "ipython3",
   "version": "3.12.5"
  }
 },
 "nbformat": 4,
 "nbformat_minor": 2
}
