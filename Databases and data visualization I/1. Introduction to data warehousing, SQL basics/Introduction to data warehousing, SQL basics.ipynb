{
 "cells": [
  {
   "cell_type": "markdown",
   "metadata": {},
   "source": [
    "# Welcome to Introduction to data warehousing, SQL basics lecture\n",
    "\n",
    "---\n",
    "---\n"
   ]
  },
  {
   "cell_type": "markdown",
   "metadata": {},
   "source": [
    "### Task for today\n",
    "\n",
    "Follow the Presentation, ask and its given, try your best!\n",
    "\n"
   ]
  },
  {
   "cell_type": "markdown",
   "metadata": {},
   "source": [
    "### Skills for today\n",
    "\n",
    "- Understand what is database and data warehouse \n",
    "- Understand what is database management system \n",
    "- Learn what is query language \n",
    "- Setup PostgreSQL \n",
    "- Learn basic commands of SQL (SELECT, FROM, WHERE)\n",
    "- Learn how to create and update table in SQL\n",
    "- Create views"
   ]
  },
  {
   "cell_type": "markdown",
   "metadata": {},
   "source": [
    "---\n",
    "---"
   ]
  },
  {
   "cell_type": "markdown",
   "metadata": {},
   "source": [
    "## Table of Contents\n"
   ]
  },
  {
   "cell_type": "markdown",
   "metadata": {},
   "source": [
    "### Introduction to Data warehousing  (9.00 – 10.00 am)\n",
    "\n",
    "- What is data warehouse \n",
    "- What is database and database management system \n",
    "- What is Data Model, what are elements of the relational model \n",
    "\n",
    "### Helpful Links\n",
    "\n",
    "### CheatSheets"
   ]
  },
  {
   "cell_type": "markdown",
   "metadata": {},
   "source": [
    "### SQL Basics (10.15 – 10.45 am)\n",
    "\n",
    "- SELECT command\n",
    "- SFROM command\n",
    "- SORDER BY command \n",
    "- SFiltering with WHERE command "
   ]
  },
  {
   "cell_type": "markdown",
   "metadata": {},
   "source": [
    "### Create and update tables with SQL  (11.00 – 12.30 am)\n",
    "\n",
    "- CREATE TABLE command\n",
    "- Data types \n",
    "\n",
    "### Create and update tables with SQL\n",
    "- Constrains\n",
    "- ALTER TABLE\n",
    "- UPDATE command \n",
    "- DELETE command \n",
    "- Create views"
   ]
  },
  {
   "cell_type": "markdown",
   "metadata": {},
   "source": [
    "---\n",
    "---"
   ]
  },
  {
   "cell_type": "markdown",
   "metadata": {},
   "source": [
    "# Information regarding upper Tasks\n"
   ]
  }
 ],
 "metadata": {
  "kernelspec": {
   "display_name": "Python 3",
   "language": "python",
   "name": "python3"
  },
  "language_info": {
   "codemirror_mode": {
    "name": "ipython",
    "version": 3
   },
   "file_extension": ".py",
   "mimetype": "text/x-python",
   "name": "python",
   "nbconvert_exporter": "python",
   "pygments_lexer": "ipython3",
   "version": "3.12.5"
  }
 },
 "nbformat": 4,
 "nbformat_minor": 2
}
