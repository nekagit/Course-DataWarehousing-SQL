{
 "cells": [
  {
   "cell_type": "markdown",
   "metadata": {},
   "source": [
    "# Welcome to Aggregation and joins in SQL lecture\n",
    "\n",
    "---\n",
    "---\n"
   ]
  },
  {
   "cell_type": "markdown",
   "metadata": {},
   "source": [
    "### Task for today\n",
    "\n",
    "Follow the Presentation, ask and its given, try your best!\n",
    "\n"
   ]
  },
  {
   "cell_type": "markdown",
   "metadata": {},
   "source": [
    "### Skills for today\n",
    "\n",
    "- Learn what aggregation functions exist in SQL\n",
    "- Be able to apply aggregation functions \n",
    "- Learn possibilities to join tables\n",
    "- Distinguish between left, right, inner and full, cross and self joins\n",
    "- Learn Union, intersect and except commands \n",
    "- Learn how to use semi joins "
   ]
  },
  {
   "cell_type": "markdown",
   "metadata": {},
   "source": [
    "---\n",
    "---"
   ]
  },
  {
   "cell_type": "markdown",
   "metadata": {},
   "source": [
    "## Table of Contents\n"
   ]
  },
  {
   "cell_type": "markdown",
   "metadata": {},
   "source": [
    "### Introduction to Aggregation functions (9.00 – 10.30 am)\n",
    "\n",
    "- COUNT\n",
    "- Handle Null values \n",
    "- ROUND command\n",
    "- Arithmetic commands in SQL\n",
    "- GROUP BY\n",
    "\n",
    "### Helpful Links\n",
    "\n",
    "### CheatSheets"
   ]
  },
  {
   "cell_type": "markdown",
   "metadata": {},
   "source": [
    "### Joins (10.15 – 10.45 am)\n",
    "\n",
    "- Inner join\n",
    "- Left join\n",
    "- Right join\n",
    "- Full join\n",
    "- Cross join\n",
    "- Self join\n",
    "- Set theory\n",
    "- Subqueries \n",
    "- Semi join"
   ]
  },
  {
   "cell_type": "markdown",
   "metadata": {},
   "source": [
    "### Interactive Practice Session  (11.00 – 12.30 am)\n",
    "\n",
    "- Practical exercises shown"
   ]
  },
  {
   "cell_type": "markdown",
   "metadata": {},
   "source": [
    "---\n",
    "---"
   ]
  },
  {
   "cell_type": "markdown",
   "metadata": {},
   "source": [
    "# Information regarding upper Tasks\n",
    "\n",
    "---"
   ]
  }
 ],
 "metadata": {
  "kernelspec": {
   "display_name": "Python 3",
   "language": "python",
   "name": "python3"
  },
  "language_info": {
   "codemirror_mode": {
    "name": "ipython",
    "version": 3
   },
   "file_extension": ".py",
   "mimetype": "text/x-python",
   "name": "python",
   "nbconvert_exporter": "python",
   "pygments_lexer": "ipython3",
   "version": "3.12.5"
  }
 },
 "nbformat": 4,
 "nbformat_minor": 2
}
